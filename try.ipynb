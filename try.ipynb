{
 "cells": [
  {
   "cell_type": "code",
   "execution_count": 9,
   "id": "9a732646",
   "metadata": {},
   "outputs": [],
   "source": [
    "from flask_bcrypt import Bcrypt\n"
   ]
  },
  {
   "cell_type": "code",
   "execution_count": 10,
   "id": "0029ec3e",
   "metadata": {},
   "outputs": [
    {
     "data": {
      "text/plain": [
       "'$2b$12$0tf2U5Gi02qrXSGX5VM7JOzGJto6Gbvevj3KqI7gijLhnGfnaqnpy'"
      ]
     },
     "execution_count": 10,
     "metadata": {},
     "output_type": "execute_result"
    }
   ],
   "source": [
    "bcrypt= Bcrypt()\n",
    "bcrypt.generate_password_hash('password').decode('utf-8')"
   ]
  },
  {
   "cell_type": "code",
   "execution_count": 11,
   "id": "458b988e",
   "metadata": {},
   "outputs": [],
   "source": [
    "hashed_pw= bcrypt.generate_password_hash('password').decode('utf-8')\n"
   ]
  },
  {
   "cell_type": "code",
   "execution_count": 12,
   "id": "b774f789",
   "metadata": {},
   "outputs": [
    {
     "data": {
      "text/plain": [
       "False"
      ]
     },
     "execution_count": 12,
     "metadata": {},
     "output_type": "execute_result"
    }
   ],
   "source": [
    "bcrypt.check_password_hash(hashed_pw, 'testing')"
   ]
  },
  {
   "cell_type": "code",
   "execution_count": 13,
   "id": "c7e076a9",
   "metadata": {},
   "outputs": [
    {
     "data": {
      "text/plain": [
       "True"
      ]
     },
     "execution_count": 13,
     "metadata": {},
     "output_type": "execute_result"
    }
   ],
   "source": [
    "\n",
    "bcrypt.check_password_hash(hashed_pw, 'password')"
   ]
  },
  {
   "cell_type": "code",
   "execution_count": 2,
   "id": "7d59e3fb",
   "metadata": {},
   "outputs": [],
   "source": [
    "from flask_blog import db, app\n",
    "from flask_blog.models import User, Posts"
   ]
  },
  {
   "cell_type": "code",
   "execution_count": 20,
   "id": "b207f20e",
   "metadata": {},
   "outputs": [
    {
     "name": "stdout",
     "output_type": "stream",
     "text": [
      "[User('TejashreeRaul', '123@gmail.com', 'default.jpg'), User('Gauri Pachling', 'g@gmail.com', 'default.jpg')]\n"
     ]
    }
   ],
   "source": [
    "with app.app_context():\n",
    "     user= User.query.all()\n",
    "     print(user)"
   ]
  },
  {
   "cell_type": "code",
   "execution_count": 15,
   "id": "bd8d42f7",
   "metadata": {},
   "outputs": [
    {
     "name": "stdout",
     "output_type": "stream",
     "text": [
      "[User('Tejashree', '123@gmail.com', '4f4fa7ada703ac93.jpg'), User('Gauri Pachling', 'g@gmail.com', 'default.jpg'), User('Annanya', 'a@gmail.com', 'default.jpg'), User('Gauri', 'g@egmail.com', 'default.jpg')]\n"
     ]
    }
   ],
   "source": [
    "with app.app_context():\n",
    "     user= User.query.all()\n",
    "     print(user)"
   ]
  },
  {
   "cell_type": "code",
   "execution_count": 16,
   "id": "ea025669",
   "metadata": {},
   "outputs": [
    {
     "name": "stdout",
     "output_type": "stream",
     "text": [
      "[Posts('Sample Post 1', '2025-04-21 18:48:57.715574'), Posts('Sample Post 2', '2025-04-21 18:48:57.715574'), Posts('Sample Post 3', '2025-04-21 18:48:57.715574'), Posts('Sample Post 4', '2025-04-21 18:48:57.715574'), Posts('Sample Post 5', '2025-04-21 18:48:57.716580'), Posts('Sample Post 6', '2025-04-21 18:48:57.716580'), Posts('Sample Post 7', '2025-04-21 18:48:57.716580'), Posts('Sample Post 8', '2025-04-21 18:48:57.716580'), Posts('Sample Post 9', '2025-04-21 18:48:57.716580'), Posts('Sample Post 10', '2025-04-21 18:48:57.716580'), Posts('Sample Post 11', '2025-04-21 18:48:57.716580'), Posts('Sample Post 12', '2025-04-21 18:48:57.716580'), Posts('Sample Post 13', '2025-04-21 18:48:57.717596'), Posts('Sample Post 14', '2025-04-21 18:48:57.717596'), Posts('Sample Post 15', '2025-04-21 18:48:57.718541'), Posts('Sample Post 16', '2025-04-21 18:48:57.718541'), Posts('Sample Post 17', '2025-04-21 18:48:57.718541'), Posts('Sample Post 18', '2025-04-21 18:48:57.718541'), Posts('Sample Post 19', '2025-04-21 18:48:57.718541'), Posts('Sample Post 20', '2025-04-21 18:48:57.718541'), Posts('Sample Post 21', '2025-04-21 18:48:57.718541'), Posts('Sample Post 22', '2025-04-21 18:48:57.718541'), Posts('Sample Post 23', '2025-04-21 18:48:57.718541'), Posts('Sample Post 24', '2025-04-21 18:48:57.719541'), Posts('Sample Post 25', '2025-04-21 18:48:57.719541')]\n"
     ]
    }
   ],
   "source": [
    "with app.app_context():\n",
    "     post= Posts.query.all()\n",
    "     print(post)\n",
    "     db.session.commit()"
   ]
  },
  {
   "cell_type": "code",
   "execution_count": 14,
   "id": "97a5d4e9",
   "metadata": {},
   "outputs": [
    {
     "name": "stdout",
     "output_type": "stream",
     "text": [
      "✅ Successfully added 25 sample posts!\n"
     ]
    }
   ],
   "source": [
    "from flask_blog import db, bcrypt\n",
    "from flask_blog.models import User, Posts\n",
    "from datetime import datetime\n",
    "import random\n",
    "\n",
    "# Helper to get or create a user\n",
    "with app.app_context():\n",
    "    def get_or_create_user(username, email):\n",
    "        user = User.query.filter_by(email=email).first()\n",
    "        if not user:\n",
    "            hashed_password = bcrypt.generate_password_hash(\"password\").decode(\"utf-8\")\n",
    "            user = User(username=username, email=email, password=hashed_password)\n",
    "            db.session.add(user)\n",
    "            db.session.commit()\n",
    "        return user\n",
    "\n",
    "    # Create 3 authors\n",
    "    tejashree = get_or_create_user(\"Tejashree\", \"123@gmail.com\")\n",
    "    annanya = get_or_create_user(\"Annanya\", \"a@gmail.com\")\n",
    "    gauri = get_or_create_user(\"Gauri\", \"g@gmail.com\")\n",
    "\n",
    "    authors = [tejashree, annanya, gauri]\n",
    "\n",
    "    # Create 25 posts randomly assigned to these authors\n",
    "    for i in range(1, 26):\n",
    "        author = random.choice(authors)\n",
    "        post = Posts(\n",
    "            title=f\"Sample Post {i}\",\n",
    "            content=f\"This is a detailed content block for Sample Post {i}, written by {author.username}.\",\n",
    "            author=author,\n",
    "            date_posted=datetime.utcnow()\n",
    "        )\n",
    "        db.session.add(post)\n",
    "\n",
    "    db.session.commit()\n",
    "    print(\"✅ Successfully added 25 sample posts!\")\n"
   ]
  },
  {
   "cell_type": "code",
   "execution_count": 21,
   "id": "75828f33",
   "metadata": {},
   "outputs": [],
   "source": [
    "from itsdangerous import URLSafeTimedSerializer as Serializer\n"
   ]
  },
  {
   "cell_type": "code",
   "execution_count": 29,
   "id": "e1427719",
   "metadata": {},
   "outputs": [
    {
     "name": "stdout",
     "output_type": "stream",
     "text": [
      "eyJ1c2VyX2lkIjoxfQ.aAaczw.POl33CvvwE1KXpGlzVg29n4b8bQ\n"
     ]
    }
   ],
   "source": [
    "from itsdangerous import URLSafeTimedSerializer as Serializer\n",
    "\n",
    "s = Serializer('secret')  # you can customize the salt\n",
    "token = s.dumps({'user_id': 1})\n",
    "print(token)\n"
   ]
  },
  {
   "cell_type": "code",
   "execution_count": 32,
   "id": "38a453a2",
   "metadata": {},
   "outputs": [
    {
     "ename": "SignatureExpired",
     "evalue": "Signature age 11 > 10 seconds",
     "output_type": "error",
     "traceback": [
      "\u001b[31m---------------------------------------------------------------------------\u001b[39m",
      "\u001b[31mSignatureExpired\u001b[39m                          Traceback (most recent call last)",
      "\u001b[36mCell\u001b[39m\u001b[36m \u001b[39m\u001b[32mIn[32]\u001b[39m\u001b[32m, line 1\u001b[39m\n\u001b[32m----> \u001b[39m\u001b[32m1\u001b[39m data = \u001b[43ms\u001b[49m\u001b[43m.\u001b[49m\u001b[43mloads\u001b[49m\u001b[43m(\u001b[49m\u001b[43mtoken\u001b[49m\u001b[43m,\u001b[49m\u001b[43m \u001b[49m\u001b[43mmax_age\u001b[49m\u001b[43m=\u001b[49m\u001b[32;43m10\u001b[39;49m\u001b[43m)\u001b[49m  \u001b[38;5;66;03m# max_age in seconds\u001b[39;00m\n\u001b[32m      2\u001b[39m \u001b[38;5;28mprint\u001b[39m(data)\n",
      "\u001b[36mFile \u001b[39m\u001b[32mc:\\Users\\vikra\\AppData\\Local\\Programs\\Python\\Python311\\Lib\\site-packages\\itsdangerous\\timed.py:204\u001b[39m, in \u001b[36mloads\u001b[39m\u001b[34m(self, s, max_age, return_timestamp, salt)\u001b[39m\n\u001b[32m      0\u001b[39m <Error retrieving source code with stack_data see ipython/ipython#13598>\n",
      "\u001b[36mFile \u001b[39m\u001b[32mc:\\Users\\vikra\\AppData\\Local\\Programs\\Python\\Python311\\Lib\\site-packages\\itsdangerous\\timed.py:142\u001b[39m, in \u001b[36munsign\u001b[39m\u001b[34m(self, signed_value, max_age, return_timestamp)\u001b[39m\n\u001b[32m    140\u001b[39m     \u001b[38;5;28;01mexcept\u001b[39;00m BadSignature \u001b[38;5;28;01mas\u001b[39;00m err:\n\u001b[32m    141\u001b[39m         last_exception = err\n\u001b[32m--> \u001b[39m\u001b[32m142\u001b[39m \u001b[38;5;28;01mraise\u001b[39;00m last_exception\n",
      "\u001b[31mSignatureExpired\u001b[39m: Signature age 11 > 10 seconds"
     ]
    }
   ],
   "source": [
    "data = s.loads(token, max_age=30)  # max_age in seconds\n",
    "print(data)\n"
   ]
  }
 ],
 "metadata": {
  "kernelspec": {
   "display_name": "Python 3",
   "language": "python",
   "name": "python3"
  },
  "language_info": {
   "codemirror_mode": {
    "name": "ipython",
    "version": 3
   },
   "file_extension": ".py",
   "mimetype": "text/x-python",
   "name": "python",
   "nbconvert_exporter": "python",
   "pygments_lexer": "ipython3",
   "version": "3.11.9"
  }
 },
 "nbformat": 4,
 "nbformat_minor": 5
}
